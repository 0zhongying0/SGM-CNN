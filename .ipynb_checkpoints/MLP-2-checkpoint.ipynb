{
 "cells": [
  {
   "cell_type": "markdown",
   "metadata": {},
   "source": [
    "# 加载数据集"
   ]
  },
  {
   "cell_type": "code",
   "execution_count": 1,
   "metadata": {},
   "outputs": [],
   "source": [
    "import os\n",
    "# os.environ[\"CUDA_VISIBLE_DEVICES\"] = \"1\""
   ]
  },
  {
   "cell_type": "code",
   "execution_count": 2,
   "metadata": {},
   "outputs": [
    {
     "name": "stderr",
     "output_type": "stream",
     "text": [
      "Using TensorFlow backend.\n",
      "f:\\anaconda\\envs\\py37\\lib\\site-packages\\tensorflow\\python\\framework\\dtypes.py:526: FutureWarning: Passing (type, 1) or '1type' as a synonym of type is deprecated; in a future version of numpy, it will be understood as (type, (1,)) / '(1,)type'.\n",
      "  _np_qint8 = np.dtype([(\"qint8\", np.int8, 1)])\n",
      "f:\\anaconda\\envs\\py37\\lib\\site-packages\\tensorflow\\python\\framework\\dtypes.py:527: FutureWarning: Passing (type, 1) or '1type' as a synonym of type is deprecated; in a future version of numpy, it will be understood as (type, (1,)) / '(1,)type'.\n",
      "  _np_quint8 = np.dtype([(\"quint8\", np.uint8, 1)])\n",
      "f:\\anaconda\\envs\\py37\\lib\\site-packages\\tensorflow\\python\\framework\\dtypes.py:528: FutureWarning: Passing (type, 1) or '1type' as a synonym of type is deprecated; in a future version of numpy, it will be understood as (type, (1,)) / '(1,)type'.\n",
      "  _np_qint16 = np.dtype([(\"qint16\", np.int16, 1)])\n",
      "f:\\anaconda\\envs\\py37\\lib\\site-packages\\tensorflow\\python\\framework\\dtypes.py:529: FutureWarning: Passing (type, 1) or '1type' as a synonym of type is deprecated; in a future version of numpy, it will be understood as (type, (1,)) / '(1,)type'.\n",
      "  _np_quint16 = np.dtype([(\"quint16\", np.uint16, 1)])\n",
      "f:\\anaconda\\envs\\py37\\lib\\site-packages\\tensorflow\\python\\framework\\dtypes.py:530: FutureWarning: Passing (type, 1) or '1type' as a synonym of type is deprecated; in a future version of numpy, it will be understood as (type, (1,)) / '(1,)type'.\n",
      "  _np_qint32 = np.dtype([(\"qint32\", np.int32, 1)])\n",
      "f:\\anaconda\\envs\\py37\\lib\\site-packages\\tensorflow\\python\\framework\\dtypes.py:535: FutureWarning: Passing (type, 1) or '1type' as a synonym of type is deprecated; in a future version of numpy, it will be understood as (type, (1,)) / '(1,)type'.\n",
      "  np_resource = np.dtype([(\"resource\", np.ubyte, 1)])\n"
     ]
    }
   ],
   "source": [
    "import numpy as np\n",
    "import pandas as pd\n",
    "from keras.utils import np_utils\n",
    "from keras.models import Sequential\n",
    "from keras.layers import Dense\n",
    "from keras.layers import Dropout\n",
    "\n",
    "\n",
    "import matplotlib.pyplot as plt\n",
    "import os"
   ]
  },
  {
   "cell_type": "code",
   "execution_count": 3,
   "metadata": {},
   "outputs": [],
   "source": [
    "x_train = np.load('E:/IDS/alldata/12/RUS+SMOTE/label_2/data.npy')\n",
    "y_train = np.load('E:/IDS/alldata/12/RUS+SMOTE/label_2/label.npy')\n",
    "\n",
    "\n",
    "x_test = np.load('E:/IDS/alldata/12/test/data.npy')\n",
    "y_test = np.load('E:/IDS/alldata/12/test/label_2.npy')\n",
    "\n",
    "x_val = np.load('E:/IDS/alldata/12/val/data.npy')\n",
    "y_val = np.load('E:/IDS/alldata/12/val/label_2.npy')"
   ]
  },
  {
   "cell_type": "code",
   "execution_count": 4,
   "metadata": {},
   "outputs": [
    {
     "name": "stdout",
     "output_type": "stream",
     "text": [
      "(1778030, 12) (1778030, 1) (508012, 12) (508012, 1) (254005, 12) (254005, 1)\n"
     ]
    }
   ],
   "source": [
    "print(x_train.shape,y_train.shape,x_test.shape,y_test.shape,x_val.shape,y_val.shape)"
   ]
  },
  {
   "cell_type": "markdown",
   "metadata": {},
   "source": [
    "# 对类标签进行one-hot编码"
   ]
  },
  {
   "cell_type": "code",
   "execution_count": 5,
   "metadata": {},
   "outputs": [
    {
     "name": "stdout",
     "output_type": "stream",
     "text": [
      "Shape of data (BEFORE encode): (1778030, 1)\n",
      "Shape of data (AFTER  encode): (1778030, 2)\n",
      "\n",
      "Shape of data (BEFORE encode): (508012, 1)\n",
      "Shape of data (AFTER  encode): (508012, 2)\n",
      "\n",
      "Shape of data (BEFORE encode): (254005, 1)\n",
      "Shape of data (AFTER  encode): (254005, 2)\n",
      "\n"
     ]
    }
   ],
   "source": [
    "from keras.utils import to_categorical\n",
    "def encode(data):\n",
    "    print('Shape of data (BEFORE encode): %s' % str(data.shape)) #编码之前标签的形状\n",
    "    encoded = to_categorical(data)\n",
    "    print('Shape of data (AFTER  encode): %s\\n' % str(encoded.shape))  #编码之后标签的形状\n",
    "    return encoded\n",
    "\n",
    "y_train_onehot = encode(y_train)\n",
    "y_test_onehot = encode(y_test)\n",
    "y_val_onehot = encode(y_val)"
   ]
  },
  {
   "cell_type": "markdown",
   "metadata": {},
   "source": [
    "# MLP模型"
   ]
  },
  {
   "cell_type": "code",
   "execution_count": 6,
   "metadata": {
    "scrolled": false
   },
   "outputs": [
    {
     "name": "stdout",
     "output_type": "stream",
     "text": [
      "WARNING:tensorflow:From f:\\anaconda\\envs\\py37\\lib\\site-packages\\tensorflow\\python\\framework\\op_def_library.py:263: colocate_with (from tensorflow.python.framework.ops) is deprecated and will be removed in a future version.\n",
      "Instructions for updating:\n",
      "Colocations handled automatically by placer.\n",
      "_________________________________________________________________\n",
      "Layer (type)                 Output Shape              Param #   \n",
      "=================================================================\n",
      "dense_1 (Dense)              (None, 128)               1664      \n",
      "_________________________________________________________________\n",
      "dense_2 (Dense)              (None, 128)               16512     \n",
      "_________________________________________________________________\n",
      "dense_3 (Dense)              (None, 64)                8256      \n",
      "_________________________________________________________________\n",
      "dense_4 (Dense)              (None, 32)                2080      \n",
      "_________________________________________________________________\n",
      "dense_5 (Dense)              (None, 2)                 66        \n",
      "=================================================================\n",
      "Total params: 28,578\n",
      "Trainable params: 28,578\n",
      "Non-trainable params: 0\n",
      "_________________________________________________________________\n",
      "None\n"
     ]
    }
   ],
   "source": [
    "from keras import regularizers #添加权重正则化模块\n",
    "\n",
    "model = Sequential()\n",
    "model.add(Dense(input_dim = 12,\n",
    "                units = 128,\n",
    "              \n",
    "                activation = 'relu'))  #units =  该层的神经单元结点数。\n",
    "\n",
    "\n",
    "model.add(Dense(units = 128,\n",
    "           \n",
    "                activation = 'relu'))\n",
    "\n",
    "model.add(Dense(units = 64,\n",
    "             \n",
    "                activation = 'relu'))\n",
    "\n",
    "\n",
    "model.add(Dense(units = 32,\n",
    "              \n",
    "                activation = 'relu'))\n",
    "\n",
    "\n",
    "model.add(Dense(units = 2,\n",
    "                activation = 'softmax'))\n",
    "\n",
    "print(model.summary())"
   ]
  },
  {
   "cell_type": "code",
   "execution_count": 7,
   "metadata": {},
   "outputs": [
    {
     "name": "stdout",
     "output_type": "stream",
     "text": [
      "WARNING:tensorflow:From f:\\anaconda\\envs\\py37\\lib\\site-packages\\tensorflow\\python\\ops\\math_ops.py:3066: to_int32 (from tensorflow.python.ops.math_ops) is deprecated and will be removed in a future version.\n",
      "Instructions for updating:\n",
      "Use tf.cast instead.\n",
      "Train on 1778030 samples, validate on 254005 samples\n",
      "Epoch 1/50\n",
      " - 8s - loss: 0.0316 - acc: 0.9901 - val_loss: 0.0317 - val_acc: 0.9852\n",
      "Epoch 2/50\n",
      " - 8s - loss: 0.0305 - acc: 0.9911 - val_loss: 0.0358 - val_acc: 0.9858\n",
      "Epoch 3/50\n",
      " - 8s - loss: 0.0344 - acc: 0.9913 - val_loss: 0.0388 - val_acc: 0.9839\n",
      "Epoch 4/50\n",
      " - 8s - loss: 0.0340 - acc: 0.9914 - val_loss: 0.0329 - val_acc: 0.9864\n",
      "Epoch 5/50\n",
      " - 8s - loss: 0.0338 - acc: 0.9915 - val_loss: 0.0313 - val_acc: 0.9864\n",
      "Epoch 6/50\n",
      " - 8s - loss: 0.0335 - acc: 0.9915 - val_loss: 0.0318 - val_acc: 0.9864\n",
      "Epoch 7/50\n",
      " - 8s - loss: 0.0335 - acc: 0.9916 - val_loss: 0.0317 - val_acc: 0.9863\n",
      "Epoch 8/50\n",
      " - 8s - loss: 0.0347 - acc: 0.9915 - val_loss: 0.0294 - val_acc: 0.9864\n",
      "Epoch 9/50\n",
      " - 8s - loss: 0.0328 - acc: 0.9916 - val_loss: 0.0325 - val_acc: 0.9871\n",
      "Epoch 10/50\n",
      " - 8s - loss: 0.0325 - acc: 0.9918 - val_loss: 0.0324 - val_acc: 0.9872\n",
      "Epoch 11/50\n",
      " - 8s - loss: 0.0680 - acc: 0.9894 - val_loss: 0.0428 - val_acc: 0.9866\n",
      "Epoch 12/50\n",
      " - 8s - loss: 0.0378 - acc: 0.9914 - val_loss: 0.0321 - val_acc: 0.9872\n",
      "Epoch 13/50\n",
      " - 8s - loss: 0.0335 - acc: 0.9916 - val_loss: 0.0315 - val_acc: 0.9871\n",
      "Epoch 14/50\n",
      " - 8s - loss: 0.0330 - acc: 0.9916 - val_loss: 0.0308 - val_acc: 0.9852\n",
      "Epoch 15/50\n",
      " - 8s - loss: 0.0332 - acc: 0.9916 - val_loss: 0.0321 - val_acc: 0.9873\n",
      "Epoch 16/50\n",
      " - 8s - loss: 0.0329 - acc: 0.9918 - val_loss: 0.0308 - val_acc: 0.9864\n",
      "Epoch 17/50\n",
      " - 8s - loss: 0.0331 - acc: 0.9918 - val_loss: 0.0322 - val_acc: 0.9864\n",
      "Epoch 18/50\n",
      " - 8s - loss: 0.0331 - acc: 0.9916 - val_loss: 0.0312 - val_acc: 0.9864\n",
      "Epoch 19/50\n",
      " - 8s - loss: 0.0337 - acc: 0.9916 - val_loss: 0.0330 - val_acc: 0.9873\n",
      "Epoch 20/50\n",
      " - 8s - loss: 0.0326 - acc: 0.9918 - val_loss: 0.0320 - val_acc: 0.9868\n",
      "Epoch 21/50\n",
      " - 8s - loss: 0.0326 - acc: 0.9918 - val_loss: 0.0319 - val_acc: 0.9864\n",
      "Epoch 22/50\n",
      " - 8s - loss: 0.0338 - acc: 0.9913 - val_loss: 0.0321 - val_acc: 0.9852\n",
      "Epoch 23/50\n",
      " - 8s - loss: 0.0364 - acc: 0.9913 - val_loss: 0.0333 - val_acc: 0.9872\n",
      "Epoch 24/50\n",
      " - 8s - loss: 0.0328 - acc: 0.9917 - val_loss: 0.0313 - val_acc: 0.9865\n",
      "Epoch 25/50\n",
      " - 8s - loss: 0.0328 - acc: 0.9917 - val_loss: 0.0292 - val_acc: 0.9875\n",
      "Epoch 26/50\n",
      " - 8s - loss: 0.0330 - acc: 0.9915 - val_loss: 0.0325 - val_acc: 0.9872\n",
      "Epoch 27/50\n",
      " - 8s - loss: 0.0326 - acc: 0.9918 - val_loss: 0.0282 - val_acc: 0.9872\n",
      "Epoch 28/50\n",
      " - 8s - loss: 0.0404 - acc: 0.9913 - val_loss: 0.0527 - val_acc: 0.9852\n",
      "Epoch 29/50\n",
      " - 8s - loss: 0.0430 - acc: 0.9912 - val_loss: 0.0309 - val_acc: 0.9864\n",
      "Epoch 30/50\n",
      " - 8s - loss: 0.0328 - acc: 0.9918 - val_loss: 0.0343 - val_acc: 0.9872\n",
      "Epoch 31/50\n",
      " - 8s - loss: 0.0325 - acc: 0.9919 - val_loss: 0.0324 - val_acc: 0.9872\n",
      "Epoch 32/50\n",
      " - 8s - loss: 0.0323 - acc: 0.9919 - val_loss: 0.0302 - val_acc: 0.9872\n",
      "Epoch 33/50\n",
      " - 8s - loss: 0.0326 - acc: 0.9917 - val_loss: 0.0311 - val_acc: 0.9873\n",
      "Epoch 34/50\n",
      " - 8s - loss: 0.0324 - acc: 0.9918 - val_loss: 0.0343 - val_acc: 0.9866\n",
      "Epoch 35/50\n",
      " - 8s - loss: 0.0326 - acc: 0.9918 - val_loss: 0.0292 - val_acc: 0.9872\n",
      "Epoch 36/50\n",
      " - 8s - loss: 0.0325 - acc: 0.9917 - val_loss: 0.0311 - val_acc: 0.9865\n",
      "Epoch 37/50\n",
      " - 8s - loss: 0.0325 - acc: 0.9918 - val_loss: 0.0303 - val_acc: 0.9872\n",
      "Epoch 38/50\n",
      " - 8s - loss: 0.0317 - acc: 0.9919 - val_loss: 0.0314 - val_acc: 0.9872\n",
      "Epoch 39/50\n",
      " - 8s - loss: 0.0329 - acc: 0.9916 - val_loss: 0.0307 - val_acc: 0.9865\n",
      "Epoch 40/50\n",
      " - 8s - loss: 0.0324 - acc: 0.9918 - val_loss: 0.0302 - val_acc: 0.9873\n",
      "Epoch 41/50\n",
      " - 8s - loss: 0.0321 - acc: 0.9919 - val_loss: 0.0300 - val_acc: 0.9874\n",
      "Epoch 42/50\n",
      " - 8s - loss: 0.0318 - acc: 0.9918 - val_loss: 0.0303 - val_acc: 0.9873\n",
      "Epoch 43/50\n",
      " - 8s - loss: 0.0321 - acc: 0.9918 - val_loss: 0.0309 - val_acc: 0.9865\n",
      "Epoch 44/50\n",
      " - 8s - loss: 0.0320 - acc: 0.9918 - val_loss: 0.0292 - val_acc: 0.9873\n",
      "Epoch 45/50\n",
      " - 8s - loss: 0.0318 - acc: 0.9919 - val_loss: 0.0308 - val_acc: 0.9864\n",
      "train_time: 349.6136546134949\n"
     ]
    }
   ],
   "source": [
    "import keras\n",
    "#保存最佳模型\n",
    "import time\n",
    "time_start = time.time()\n",
    "\n",
    "callback_list = [keras.callbacks.EarlyStopping(monitor='val_acc',patience=30,),  #如果精度在多于3轮的时间内不再改善，中断训练\n",
    "                keras.callbacks.ModelCheckpoint(filepath='my_model.h5',monitor='val_acc',save_best_only=True,)]\n",
    "\n",
    "model.compile(loss = \"categorical_crossentropy\",optimizer = \"nadam\", metrics = [\"accuracy\"])#损失函数，优化器，精度\n",
    "history = model.fit(x = x_train,y = y_train_onehot,\n",
    "                epochs = 100,\n",
    "                batch_size = 256,\n",
    "                verbose = 2,\n",
    "                callbacks=callback_list,\n",
    "                validation_data=(x_val, y_val_onehot) )\n",
    "\n",
    "time_end = time.time()\n",
    "train_time = time_end - time_start\n",
    "print(\"train_time:\",train_time)"
   ]
  },
  {
   "cell_type": "code",
   "execution_count": 10,
   "metadata": {},
   "outputs": [
    {
     "name": "stdout",
     "output_type": "stream",
     "text": [
      "508012/508012 [==============================] - 4s 7us/step\n",
      "test_loss =  0.031169582333884414 test_accuracy =  0.986506224262419\n"
     ]
    }
   ],
   "source": [
    "#计算最终的测试精度\n",
    "scores = model.evaluate(x_test, y_test_onehot)\n",
    "print(\"test_loss = \", scores[0],\"test_accuracy = \", scores[1])"
   ]
  },
  {
   "cell_type": "code",
   "execution_count": 11,
   "metadata": {},
   "outputs": [],
   "source": [
    "model.save('E:/IDS/alldata/12/RUS+SMOTE/label_2/MLP_RUS_2.h5')#保存模型"
   ]
  },
  {
   "cell_type": "markdown",
   "metadata": {},
   "source": [
    "# 绘制混淆矩阵和热力图 "
   ]
  },
  {
   "cell_type": "code",
   "execution_count": 12,
   "metadata": {},
   "outputs": [
    {
     "name": "stdout",
     "output_type": "stream",
     "text": [
      "test_time: 2.7127366065979004\n"
     ]
    }
   ],
   "source": [
    "import time\n",
    "time_start = time.time()\n",
    "y_pred_onehot  = model.predict(x_test)  #返回的是在类别上的概率分布\n",
    "\n",
    "y_pred_label=np.argmax(y_pred_onehot,axis=1)#概率最大的类别就是预测类别\n",
    "\n",
    "time_end = time.time()\n",
    "test_time = time_end - time_start\n",
    "print(\"test_time:\",test_time)\n",
    "\n",
    "# np.savetxt(\"/home/hll/IDS/cicdata/77_2/pre/MLP_y_pred_ADASYN.txt\",y_pred_label)  #保存预测标签\n"
   ]
  },
  {
   "cell_type": "code",
   "execution_count": 13,
   "metadata": {},
   "outputs": [],
   "source": [
    "y_true_onehot=y_test_onehot\n",
    "y_true_label=np.argmax(y_true_onehot,axis=1)\n",
    "# np.savetxt(\"/home/hll/IDS/cicdata/77_2/pre/MLP_y_true_ADASYN.txt\",y_true_label)  #保存真实标签"
   ]
  },
  {
   "cell_type": "code",
   "execution_count": 14,
   "metadata": {},
   "outputs": [
    {
     "data": {
      "image/png": "[encoded data removed]",
      "text/plain": [
       "<Figure size 1200x1200 with 2 Axes>"
      ]
     },
     "metadata": {
      "needs_background": "light"
     },
     "output_type": "display_data"
    }
   ],
   "source": [
    "# -*-coding:utf-8-*-\n",
    "from sklearn.metrics import confusion_matrix\n",
    "import matplotlib.pyplot as plt\n",
    "import numpy as np\n",
    "\n",
    "labels = ['Normal','Attack']\n",
    "          \n",
    "y_pred  = y_pred_label  #读取真实标签和预测标签的值\n",
    "y_true = y_true_label\n",
    "\n",
    "\n",
    "tick_marks = np.array(range(len(labels))) + 0.5\n",
    "\n",
    "def plot_confusion_matrix(cm, title='Confusion Matrix', cmap=plt.cm.binary):\n",
    "    plt.imshow(cm, interpolation='nearest', cmap=plt.cm.Blues)  #cmap=cmap是黑白色\n",
    "    plt.title(title)\n",
    "    plt.colorbar()\n",
    "    xlocations = np.array(range(len(labels)))\n",
    "    plt.xticks(xlocations, labels, rotation=90)\n",
    "    plt.yticks(xlocations, labels)\n",
    "    plt.ylabel('True label')\n",
    "    plt.xlabel('Predicted label')\n",
    "\n",
    "\n",
    "cm = confusion_matrix(y_true, y_pred)  #cm是混淆矩阵\n",
    "np.set_printoptions(precision=2)  #保留两位小数\n",
    "cm_normalized = cm.astype('float') / cm.sum(axis=1)[:, np.newaxis]  #混淆矩阵的每个元素的值（0-1）\n",
    "\n",
    "plt.figure(figsize=(10, 10), dpi=120)\n",
    "\n",
    "ind_array = np.arange(len(labels))\n",
    "x, y = np.meshgrid(ind_array, ind_array)\n",
    "\n",
    "for x_val, y_val in zip(x.flatten(), y.flatten()):\n",
    "    c = cm_normalized[y_val][x_val]\n",
    "    if c > 0.001:\n",
    "        plt.text(x_val, y_val, \"%0.2f\" % (c,), color='red', fontsize=13, va='center', ha='center')\n",
    "# offset the tick\n",
    "plt.gca().set_xticks(tick_marks, minor=True)\n",
    "plt.gca().set_yticks(tick_marks, minor=True)\n",
    "plt.gca().xaxis.set_ticks_position('none')\n",
    "plt.gca().yaxis.set_ticks_position('none')\n",
    "plt.grid(True, which='minor', linestyle='-')\n",
    "plt.gcf().subplots_adjust(bottom=0.15)\n",
    "\n",
    "plot_confusion_matrix(cm_normalized, title='Normalized confusion matrix')  #规范化的混淆矩阵\n",
    "#plt.savefig('confusion_matrix.png', format='png')  #保存结果图\n",
    "plt.show()\n"
   ]
  },
  {
   "cell_type": "code",
   "execution_count": 15,
   "metadata": {},
   "outputs": [
    {
     "name": "stdout",
     "output_type": "stream",
     "text": [
      "[[437015   6740]\n",
      " [   115  64142]]\n"
     ]
    }
   ],
   "source": [
    "print(cm)  #输出混淆矩阵具体的数值"
   ]
  },
  {
   "cell_type": "markdown",
   "metadata": {},
   "source": [
    "# 二分类评价指标"
   ]
  },
  {
   "cell_type": "code",
   "execution_count": 16,
   "metadata": {},
   "outputs": [
    {
     "name": "stdout",
     "output_type": "stream",
     "text": [
      "acc: 0.986506224262419\n",
      "DR: 0.9982103117170114\n",
      "FPR: 0.015188561255647824\n",
      "recall： 0.9982103117170114\n",
      "precision: 0.9049123896052594\n",
      "f1: 0.9492744507507085\n"
     ]
    }
   ],
   "source": [
    "TP=cm[1,1]\n",
    "FP=cm[0,1]\n",
    "FN=cm[1,0]\n",
    "TN=cm[0,0]\n",
    "\n",
    "acc = (TP+TN)/(TP+TN+FP+FN)\n",
    "print(\"acc:\",acc)\n",
    "\n",
    "DR = TP/(TP+FN)  #检出率（查准率）\n",
    "print(\"DR:\",DR)\n",
    "\n",
    "FPR = FP/(FP+TN)  #假阳性率\n",
    "print(\"FPR:\",FPR)\n",
    "\n",
    "recall =TP/(TP+FN)\n",
    "print(\"recall：\",recall)  #召回率\n",
    "\n",
    "precision = TP/(TP+FP)\n",
    "print(\"precision:\",precision)\n",
    "\n",
    "f1 = (2*precision*recall)/(precision+recall)\n",
    "print(\"f1:\",f1)"
   ]
  },
  {
   "cell_type": "markdown",
   "metadata": {},
   "source": [
    "# 绘制二分类ROC曲线"
   ]
  },
  {
   "cell_type": "code",
   "execution_count": 17,
   "metadata": {},
   "outputs": [],
   "source": [
    "def plotRUC(yt, ys, title=None):\n",
    "    '''\n",
    "    绘制ROC-AUC曲线\n",
    "    :param yt: y真值\n",
    "    :param ys: y预测值\n",
    "    '''\n",
    "    from sklearn import metrics\n",
    "    from matplotlib import pyplot as plt\n",
    "    f_pos, t_pos, thresh = metrics.roc_curve(yt, ys)\n",
    "    auc_area = metrics.auc(f_pos, t_pos)\n",
    "    print('auc_area: {}'.format(auc_area))\n",
    "\n",
    "    plt.plot(f_pos, t_pos, 'darkorange', lw=2, label='AUC = %.2f' % auc_area)\n",
    "    plt.legend(loc='lower right')\n",
    "\n",
    "    plt.title('ROC-AUC curve for %s' % title)\n",
    "    plt.ylabel('True Pos Rate')\n",
    "    plt.xlabel('False Pos Rate')\n",
    "    \n",
    "    plt.grid(linestyle='--')  #网格线\n",
    "    \n",
    "#     plt.savefig('/home/hll/IDS/cicdata/77_2/pre/MLP_12_2_ADASYN.png',format='png')\n",
    "    plt.show()"
   ]
  },
  {
   "cell_type": "code",
   "execution_count": 18,
   "metadata": {},
   "outputs": [
    {
     "name": "stdout",
     "output_type": "stream",
     "text": [
      "auc_area: 0.9915108752306817\n"
     ]
    },
    {
     "data": {
      "image/png": "[encoded data removed]",
      "text/plain": [
       "<Figure size 432x288 with 1 Axes>"
      ]
     },
     "metadata": {
      "needs_background": "light"
     },
     "output_type": "display_data"
    }
   ],
   "source": [
    "plotRUC(y_true, y_pred, \"MLP_77\")"
   ]
  }
 ],
 "metadata": {
  "kernelspec": {
   "display_name": "Python 3",
   "language": "python",
   "name": "python3"
  },
  "language_info": {
   "codemirror_mode": {
    "name": "ipython",
    "version": 3
   },
   "file_extension": ".py",
   "mimetype": "text/x-python",
   "name": "python",
   "nbconvert_exporter": "python",
   "pygments_lexer": "ipython3",
   "version": "3.7.4"
  }
 },
 "nbformat": 4,
 "nbformat_minor": 2
}
