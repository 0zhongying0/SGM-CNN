{
 "cells": [
  {
   "cell_type": "code",
   "execution_count": 1,
   "metadata": {},
   "outputs": [],
   "source": [
    "import os\n",
    "# os.environ[\"CUDA_VISIBLE_DEVICES\"] = \"1\"\n",
    "import numpy as np\n",
    "import pandas as pd\n",
    "import matplotlib.pyplot as plt"
   ]
  },
  {
   "cell_type": "markdown",
   "metadata": {},
   "source": [
    "# 加载数据集"
   ]
  },
  {
   "cell_type": "code",
   "execution_count": 2,
   "metadata": {},
   "outputs": [
    {
     "name": "stdout",
     "output_type": "stream",
     "text": [
      "(1778030, 12) (1778030, 1) (508012, 12) (508012, 1) (254005, 12) (254005, 1)\n"
     ]
    }
   ],
   "source": [
    "x_train = np.load('E:/IDS/alldata/12/train/data.npy')\n",
    "y_train = np.load('E:/IDS/alldata/12/train/label_2.npy')\n",
    "\n",
    "x_test = np.load('E:/IDS/alldata/12/test/data.npy')\n",
    "y_test = np.load('E:/IDS/alldata/12/test/label_2.npy')\n",
    "\n",
    "x_val = np.load('E:/IDS/alldata/12/val/data.npy')\n",
    "y_val = np.load('E:/IDS/alldata/12/val/label_2.npy')\n",
    "\n",
    "print(x_train.shape,y_train.shape,x_test.shape,y_test.shape,x_val.shape,y_val.shape)"
   ]
  },
  {
   "cell_type": "code",
   "execution_count": 3,
   "metadata": {},
   "outputs": [
    {
     "name": "stderr",
     "output_type": "stream",
     "text": [
      "Using TensorFlow backend.\n",
      "f:\\anaconda\\envs\\py37\\lib\\site-packages\\tensorflow\\python\\framework\\dtypes.py:526: FutureWarning: Passing (type, 1) or '1type' as a synonym of type is deprecated; in a future version of numpy, it will be understood as (type, (1,)) / '(1,)type'.\n",
      "  _np_qint8 = np.dtype([(\"qint8\", np.int8, 1)])\n",
      "f:\\anaconda\\envs\\py37\\lib\\site-packages\\tensorflow\\python\\framework\\dtypes.py:527: FutureWarning: Passing (type, 1) or '1type' as a synonym of type is deprecated; in a future version of numpy, it will be understood as (type, (1,)) / '(1,)type'.\n",
      "  _np_quint8 = np.dtype([(\"quint8\", np.uint8, 1)])\n",
      "f:\\anaconda\\envs\\py37\\lib\\site-packages\\tensorflow\\python\\framework\\dtypes.py:528: FutureWarning: Passing (type, 1) or '1type' as a synonym of type is deprecated; in a future version of numpy, it will be understood as (type, (1,)) / '(1,)type'.\n",
      "  _np_qint16 = np.dtype([(\"qint16\", np.int16, 1)])\n",
      "f:\\anaconda\\envs\\py37\\lib\\site-packages\\tensorflow\\python\\framework\\dtypes.py:529: FutureWarning: Passing (type, 1) or '1type' as a synonym of type is deprecated; in a future version of numpy, it will be understood as (type, (1,)) / '(1,)type'.\n",
      "  _np_quint16 = np.dtype([(\"quint16\", np.uint16, 1)])\n",
      "f:\\anaconda\\envs\\py37\\lib\\site-packages\\tensorflow\\python\\framework\\dtypes.py:530: FutureWarning: Passing (type, 1) or '1type' as a synonym of type is deprecated; in a future version of numpy, it will be understood as (type, (1,)) / '(1,)type'.\n",
      "  _np_qint32 = np.dtype([(\"qint32\", np.int32, 1)])\n",
      "f:\\anaconda\\envs\\py37\\lib\\site-packages\\tensorflow\\python\\framework\\dtypes.py:535: FutureWarning: Passing (type, 1) or '1type' as a synonym of type is deprecated; in a future version of numpy, it will be understood as (type, (1,)) / '(1,)type'.\n",
      "  np_resource = np.dtype([(\"resource\", np.ubyte, 1)])\n"
     ]
    }
   ],
   "source": [
    "x_train = np.expand_dims(x_train,2)\n",
    "x_test = np.expand_dims(x_test,2)\n",
    "x_val = np.expand_dims(x_val,2)\n",
    "\n",
    "from keras.utils import to_categorical\n",
    "y_train = to_categorical(y_train)\n",
    "y_test = to_categorical(y_test)\n",
    "y_val = to_categorical(y_val)"
   ]
  },
  {
   "cell_type": "code",
   "execution_count": 4,
   "metadata": {},
   "outputs": [
    {
     "data": {
      "text/plain": [
       "(1778030, 2)"
      ]
     },
     "execution_count": 4,
     "metadata": {},
     "output_type": "execute_result"
    }
   ],
   "source": [
    "y_train.shape"
   ]
  },
  {
   "cell_type": "markdown",
   "metadata": {},
   "source": [
    "# 训练模型"
   ]
  },
  {
   "cell_type": "code",
   "execution_count": 5,
   "metadata": {},
   "outputs": [],
   "source": [
    "from keras.layers import Conv1D,MaxPooling1D,Dense,Dropout,Input,Flatten,GlobalAveragePooling1D\n",
    "from keras.layers.normalization import BatchNormalization\n",
    "from keras.models import Model\n",
    "from keras.optimizers import Nadam\n",
    "from keras import initializers\n",
    "from keras import regularizers\n",
    "np.random.seed(4)\n",
    "import pickle\n",
    "import math\n",
    "from keras.callbacks import LearningRateScheduler, ModelCheckpoint\n"
   ]
  },
  {
   "cell_type": "code",
   "execution_count": 6,
   "metadata": {},
   "outputs": [],
   "source": [
    "n_obs,feature, depth = x_train.shape\n",
    "batch_size = 256\n",
    "def build_model():\n",
    "    input_singal = Input(shape=(feature,depth))\n",
    "    x = Conv1D(32,3,activation='relu',padding='same',kernel_initializer='he_uniform')(input_singal)\n",
    "    #padding='same'填充后输出的宽度和高度与输入相同\n",
    "    x = Conv1D(32,3,activation='relu',padding='same',kernel_initializer='he_uniform')(x)\n",
    "    x = MaxPooling1D(pool_size=2,strides=2)(x)#对特征图进行下采样，将特征图下采样2倍\n",
    "    x = Dropout(0.2)(x)\n",
    "    x = BatchNormalization()(x)\n",
    "    \n",
    "    x = Conv1D(64,3,activation='relu',padding='same',kernel_initializer='he_uniform')(x)\n",
    "    x = Conv1D(64,3,activation='relu',padding='same',kernel_initializer='he_uniform')(x) \n",
    "    x = MaxPooling1D(pool_size=2,strides=2)(x)\n",
    "    x = Dropout(0.2)(x)\n",
    "    x = BatchNormalization()(x)    \n",
    "    \n",
    "    x = Flatten()(x)\n",
    "    x = Dense(32,activation='relu')(x)\n",
    "    x = Dense(2,activation='softmax')(x)\n",
    "    model = Model(inputs=input_singal,outputs=x)\n",
    "    \n",
    "    return model"
   ]
  },
  {
   "cell_type": "code",
   "execution_count": 7,
   "metadata": {},
   "outputs": [
    {
     "name": "stdout",
     "output_type": "stream",
     "text": [
      "WARNING:tensorflow:From f:\\anaconda\\envs\\py37\\lib\\site-packages\\tensorflow\\python\\framework\\op_def_library.py:263: colocate_with (from tensorflow.python.framework.ops) is deprecated and will be removed in a future version.\n",
      "Instructions for updating:\n",
      "Colocations handled automatically by placer.\n",
      "WARNING:tensorflow:From f:\\anaconda\\envs\\py37\\lib\\site-packages\\keras\\backend\\tensorflow_backend.py:3445: calling dropout (from tensorflow.python.ops.nn_ops) with keep_prob is deprecated and will be removed in a future version.\n",
      "Instructions for updating:\n",
      "Please use `rate` instead of `keep_prob`. Rate should be set to `rate = 1 - keep_prob`.\n",
      "_________________________________________________________________\n",
      "Layer (type)                 Output Shape              Param #   \n",
      "=================================================================\n",
      "input_1 (InputLayer)         (None, 12, 1)             0         \n",
      "_________________________________________________________________\n",
      "conv1d_1 (Conv1D)            (None, 12, 32)            128       \n",
      "_________________________________________________________________\n",
      "conv1d_2 (Conv1D)            (None, 12, 32)            3104      \n",
      "_________________________________________________________________\n",
      "max_pooling1d_1 (MaxPooling1 (None, 6, 32)             0         \n",
      "_________________________________________________________________\n",
      "dropout_1 (Dropout)          (None, 6, 32)             0         \n",
      "_________________________________________________________________\n",
      "batch_normalization_1 (Batch (None, 6, 32)             128       \n",
      "_________________________________________________________________\n",
      "conv1d_3 (Conv1D)            (None, 6, 64)             6208      \n",
      "_________________________________________________________________\n",
      "conv1d_4 (Conv1D)            (None, 6, 64)             12352     \n",
      "_________________________________________________________________\n",
      "max_pooling1d_2 (MaxPooling1 (None, 3, 64)             0         \n",
      "_________________________________________________________________\n",
      "dropout_2 (Dropout)          (None, 3, 64)             0         \n",
      "_________________________________________________________________\n",
      "batch_normalization_2 (Batch (None, 3, 64)             256       \n",
      "_________________________________________________________________\n",
      "flatten_1 (Flatten)          (None, 192)               0         \n",
      "_________________________________________________________________\n",
      "dense_1 (Dense)              (None, 32)                6176      \n",
      "_________________________________________________________________\n",
      "dense_2 (Dense)              (None, 2)                 66        \n",
      "=================================================================\n",
      "Total params: 28,418\n",
      "Trainable params: 28,226\n",
      "Non-trainable params: 192\n",
      "_________________________________________________________________\n"
     ]
    }
   ],
   "source": [
    "model =  build_model()\n",
    "model.summary()"
   ]
  },
  {
   "cell_type": "code",
   "execution_count": 8,
   "metadata": {},
   "outputs": [
    {
     "name": "stdout",
     "output_type": "stream",
     "text": [
      "WARNING:tensorflow:From f:\\anaconda\\envs\\py37\\lib\\site-packages\\tensorflow\\python\\ops\\math_ops.py:3066: to_int32 (from tensorflow.python.ops.math_ops) is deprecated and will be removed in a future version.\n",
      "Instructions for updating:\n",
      "Use tf.cast instead.\n",
      "Train on 1778030 samples, validate on 254005 samples\n",
      "Epoch 1/100\n",
      " - 51s - loss: 0.0262 - acc: 0.9863 - val_loss: 0.0229 - val_acc: 0.9884\n",
      "Epoch 2/100\n",
      " - 50s - loss: 0.0223 - acc: 0.9877 - val_loss: 0.0212 - val_acc: 0.9879\n",
      "Epoch 3/100\n",
      " - 49s - loss: 0.0216 - acc: 0.9880 - val_loss: 0.0215 - val_acc: 0.9876\n",
      "Epoch 4/100\n",
      " - 49s - loss: 0.0213 - acc: 0.9881 - val_loss: 0.0206 - val_acc: 0.9888\n",
      "Epoch 5/100\n",
      " - 49s - loss: 0.0211 - acc: 0.9882 - val_loss: 0.0205 - val_acc: 0.9881\n",
      "Epoch 6/100\n",
      " - 49s - loss: 0.0209 - acc: 0.9882 - val_loss: 0.0205 - val_acc: 0.9893\n",
      "Epoch 7/100\n",
      " - 49s - loss: 0.0207 - acc: 0.9883 - val_loss: 0.0199 - val_acc: 0.9894\n",
      "Epoch 8/100\n",
      " - 49s - loss: 0.0205 - acc: 0.9884 - val_loss: 0.0202 - val_acc: 0.9892\n",
      "Epoch 9/100\n",
      " - 48s - loss: 0.0204 - acc: 0.9884 - val_loss: 0.0207 - val_acc: 0.9883\n",
      "Epoch 10/100\n",
      " - 48s - loss: 0.0205 - acc: 0.9885 - val_loss: 0.0200 - val_acc: 0.9893\n",
      "Epoch 11/100\n",
      " - 48s - loss: 0.0199 - acc: 0.9889 - val_loss: 0.0188 - val_acc: 0.9898\n",
      "Epoch 12/100\n",
      " - 48s - loss: 0.0197 - acc: 0.9891 - val_loss: 0.0188 - val_acc: 0.9895\n",
      "Epoch 13/100\n",
      " - 48s - loss: 0.0197 - acc: 0.9890 - val_loss: 0.0185 - val_acc: 0.9899\n",
      "Epoch 14/100\n",
      " - 48s - loss: 0.0194 - acc: 0.9895 - val_loss: 0.0188 - val_acc: 0.9902\n",
      "Epoch 15/100\n",
      " - 48s - loss: 0.0194 - acc: 0.9894 - val_loss: 0.0197 - val_acc: 0.9885\n",
      "Epoch 16/100\n",
      " - 48s - loss: 0.0192 - acc: 0.9896 - val_loss: 0.0185 - val_acc: 0.9901\n",
      "Epoch 17/100\n",
      " - 48s - loss: 0.0192 - acc: 0.9896 - val_loss: 0.0184 - val_acc: 0.9904\n",
      "Epoch 18/100\n",
      " - 48s - loss: 0.0190 - acc: 0.9898 - val_loss: 0.0186 - val_acc: 0.9903\n",
      "Epoch 19/100\n",
      " - 48s - loss: 0.0190 - acc: 0.9899 - val_loss: 0.0184 - val_acc: 0.9902\n",
      "Epoch 20/100\n",
      " - 48s - loss: 0.0190 - acc: 0.9900 - val_loss: 0.0182 - val_acc: 0.9904\n",
      "Epoch 21/100\n",
      " - 48s - loss: 0.0188 - acc: 0.9901 - val_loss: 0.0181 - val_acc: 0.9903\n",
      "Epoch 22/100\n",
      " - 48s - loss: 0.0190 - acc: 0.9897 - val_loss: 0.0185 - val_acc: 0.9905\n",
      "Epoch 23/100\n",
      " - 48s - loss: 0.0188 - acc: 0.9900 - val_loss: 0.0182 - val_acc: 0.9902\n",
      "Epoch 24/100\n",
      " - 48s - loss: 0.0190 - acc: 0.9897 - val_loss: 0.0190 - val_acc: 0.9899\n",
      "Epoch 25/100\n",
      " - 48s - loss: 0.0188 - acc: 0.9899 - val_loss: 0.0185 - val_acc: 0.9905\n",
      "Epoch 26/100\n",
      " - 48s - loss: 0.0187 - acc: 0.9900 - val_loss: 0.0180 - val_acc: 0.9901\n",
      "Epoch 27/100\n",
      " - 48s - loss: 0.0186 - acc: 0.9901 - val_loss: 0.0180 - val_acc: 0.9906\n",
      "Epoch 28/100\n",
      " - 48s - loss: 0.0187 - acc: 0.9901 - val_loss: 0.0182 - val_acc: 0.9906\n",
      "Epoch 29/100\n",
      " - 48s - loss: 0.0187 - acc: 0.9901 - val_loss: 0.0180 - val_acc: 0.9905\n",
      "Epoch 30/100\n",
      " - 48s - loss: 0.0187 - acc: 0.9900 - val_loss: 0.0180 - val_acc: 0.9906\n",
      "Epoch 31/100\n",
      " - 48s - loss: 0.0186 - acc: 0.9900 - val_loss: 0.0192 - val_acc: 0.9898\n",
      "Epoch 32/100\n",
      " - 48s - loss: 0.0186 - acc: 0.9901 - val_loss: 0.0180 - val_acc: 0.9905\n",
      "Epoch 33/100\n",
      " - 48s - loss: 0.0184 - acc: 0.9903 - val_loss: 0.0181 - val_acc: 0.9904\n",
      "Epoch 34/100\n",
      " - 48s - loss: 0.0184 - acc: 0.9903 - val_loss: 0.0181 - val_acc: 0.9905\n",
      "Epoch 35/100\n",
      " - 49s - loss: 0.0184 - acc: 0.9902 - val_loss: 0.0184 - val_acc: 0.9905\n",
      "Epoch 36/100\n",
      " - 48s - loss: 0.0185 - acc: 0.9902 - val_loss: 0.0181 - val_acc: 0.9904\n",
      "Epoch 37/100\n",
      " - 49s - loss: 0.0178 - acc: 0.9905 - val_loss: 0.0174 - val_acc: 0.9907\n",
      "Epoch 38/100\n",
      " - 48s - loss: 0.0177 - acc: 0.9905 - val_loss: 0.0173 - val_acc: 0.9907\n",
      "Epoch 39/100\n",
      " - 48s - loss: 0.0176 - acc: 0.9905 - val_loss: 0.0173 - val_acc: 0.9908\n",
      "Epoch 40/100\n",
      " - 48s - loss: 0.0176 - acc: 0.9906 - val_loss: 0.0172 - val_acc: 0.9908\n",
      "Epoch 41/100\n",
      " - 48s - loss: 0.0175 - acc: 0.9906 - val_loss: 0.0172 - val_acc: 0.9908\n",
      "Epoch 42/100\n",
      " - 49s - loss: 0.0175 - acc: 0.9907 - val_loss: 0.0172 - val_acc: 0.9909\n",
      "Epoch 43/100\n",
      " - 48s - loss: 0.0175 - acc: 0.9906 - val_loss: 0.0172 - val_acc: 0.9909\n",
      "Epoch 44/100\n",
      " - 49s - loss: 0.0174 - acc: 0.9907 - val_loss: 0.0172 - val_acc: 0.9909\n",
      "Epoch 45/100\n",
      " - 48s - loss: 0.0175 - acc: 0.9907 - val_loss: 0.0172 - val_acc: 0.9909\n",
      "Epoch 46/100\n",
      " - 48s - loss: 0.0174 - acc: 0.9906 - val_loss: 0.0172 - val_acc: 0.9909\n",
      "Epoch 47/100\n",
      " - 48s - loss: 0.0174 - acc: 0.9907 - val_loss: 0.0171 - val_acc: 0.9909\n",
      "Epoch 48/100\n",
      " - 48s - loss: 0.0174 - acc: 0.9907 - val_loss: 0.0172 - val_acc: 0.9909\n",
      "Epoch 49/100\n",
      " - 48s - loss: 0.0174 - acc: 0.9907 - val_loss: 0.0171 - val_acc: 0.9910\n",
      "Epoch 50/100\n",
      " - 48s - loss: 0.0174 - acc: 0.9908 - val_loss: 0.0171 - val_acc: 0.9910\n",
      "Epoch 51/100\n",
      " - 48s - loss: 0.0174 - acc: 0.9907 - val_loss: 0.0171 - val_acc: 0.9910\n",
      "Epoch 52/100\n",
      " - 48s - loss: 0.0174 - acc: 0.9908 - val_loss: 0.0172 - val_acc: 0.9909\n",
      "Epoch 53/100\n",
      " - 48s - loss: 0.0174 - acc: 0.9907 - val_loss: 0.0171 - val_acc: 0.9909\n",
      "Epoch 54/100\n",
      " - 48s - loss: 0.0174 - acc: 0.9908 - val_loss: 0.0171 - val_acc: 0.9909\n",
      "Epoch 55/100\n",
      " - 48s - loss: 0.0174 - acc: 0.9907 - val_loss: 0.0170 - val_acc: 0.9911\n",
      "Epoch 56/100\n",
      " - 48s - loss: 0.0173 - acc: 0.9908 - val_loss: 0.0170 - val_acc: 0.9911\n",
      "Epoch 57/100\n",
      " - 48s - loss: 0.0174 - acc: 0.9908 - val_loss: 0.0170 - val_acc: 0.9911\n",
      "Epoch 58/100\n",
      " - 48s - loss: 0.0174 - acc: 0.9908 - val_loss: 0.0171 - val_acc: 0.9911\n",
      "Epoch 59/100\n",
      " - 48s - loss: 0.0173 - acc: 0.9908 - val_loss: 0.0170 - val_acc: 0.9911\n",
      "Epoch 60/100\n",
      " - 48s - loss: 0.0173 - acc: 0.9908 - val_loss: 0.0170 - val_acc: 0.9911\n",
      "Epoch 61/100\n",
      " - 48s - loss: 0.0174 - acc: 0.9908 - val_loss: 0.0170 - val_acc: 0.9910\n",
      "Epoch 62/100\n",
      " - 48s - loss: 0.0173 - acc: 0.9908 - val_loss: 0.0170 - val_acc: 0.9911\n",
      "Epoch 63/100\n",
      " - 48s - loss: 0.0173 - acc: 0.9908 - val_loss: 0.0172 - val_acc: 0.9911\n",
      "Epoch 64/100\n",
      " - 48s - loss: 0.0173 - acc: 0.9908 - val_loss: 0.0170 - val_acc: 0.9910\n",
      "Epoch 65/100\n",
      " - 48s - loss: 0.0173 - acc: 0.9908 - val_loss: 0.0170 - val_acc: 0.9910\n",
      "Epoch 66/100\n",
      " - 48s - loss: 0.0173 - acc: 0.9909 - val_loss: 0.0170 - val_acc: 0.9912\n",
      "Epoch 67/100\n",
      " - 48s - loss: 0.0172 - acc: 0.9909 - val_loss: 0.0169 - val_acc: 0.9911\n",
      "Epoch 68/100\n",
      " - 48s - loss: 0.0172 - acc: 0.9908 - val_loss: 0.0169 - val_acc: 0.9911\n",
      "Epoch 69/100\n",
      " - 48s - loss: 0.0172 - acc: 0.9909 - val_loss: 0.0169 - val_acc: 0.9911\n",
      "Epoch 70/100\n",
      " - 48s - loss: 0.0171 - acc: 0.9909 - val_loss: 0.0169 - val_acc: 0.9911\n",
      "Epoch 71/100\n",
      " - 48s - loss: 0.0172 - acc: 0.9909 - val_loss: 0.0169 - val_acc: 0.9911\n",
      "Epoch 72/100\n",
      " - 48s - loss: 0.0171 - acc: 0.9909 - val_loss: 0.0169 - val_acc: 0.9911\n",
      "Epoch 73/100\n",
      " - 48s - loss: 0.0172 - acc: 0.9909 - val_loss: 0.0169 - val_acc: 0.9911\n",
      "Epoch 74/100\n",
      " - 48s - loss: 0.0172 - acc: 0.9909 - val_loss: 0.0169 - val_acc: 0.9911\n",
      "Epoch 75/100\n",
      " - 48s - loss: 0.0172 - acc: 0.9909 - val_loss: 0.0169 - val_acc: 0.9912\n",
      "Epoch 76/100\n",
      " - 48s - loss: 0.0172 - acc: 0.9908 - val_loss: 0.0169 - val_acc: 0.9911\n",
      "Epoch 77/100\n",
      " - 48s - loss: 0.0172 - acc: 0.9909 - val_loss: 0.0169 - val_acc: 0.9911\n",
      "Epoch 78/100\n",
      " - 48s - loss: 0.0171 - acc: 0.9909 - val_loss: 0.0169 - val_acc: 0.9911\n",
      "Epoch 79/100\n",
      " - 48s - loss: 0.0171 - acc: 0.9909 - val_loss: 0.0169 - val_acc: 0.9911\n",
      "Epoch 80/100\n",
      " - 48s - loss: 0.0172 - acc: 0.9908 - val_loss: 0.0169 - val_acc: 0.9911\n",
      "Epoch 81/100\n",
      " - 48s - loss: 0.0172 - acc: 0.9909 - val_loss: 0.0169 - val_acc: 0.9911\n",
      "Epoch 82/100\n",
      " - 48s - loss: 0.0171 - acc: 0.9909 - val_loss: 0.0170 - val_acc: 0.9911\n",
      "Epoch 83/100\n",
      " - 48s - loss: 0.0171 - acc: 0.9909 - val_loss: 0.0169 - val_acc: 0.9911\n",
      "Epoch 84/100\n",
      " - 48s - loss: 0.0171 - acc: 0.9908 - val_loss: 0.0169 - val_acc: 0.9911\n",
      "Epoch 85/100\n",
      " - 48s - loss: 0.0171 - acc: 0.9909 - val_loss: 0.0169 - val_acc: 0.9911\n",
      "Epoch 86/100\n",
      " - 48s - loss: 0.0171 - acc: 0.9908 - val_loss: 0.0169 - val_acc: 0.9911\n",
      "Epoch 87/100\n",
      " - 48s - loss: 0.0172 - acc: 0.9909 - val_loss: 0.0169 - val_acc: 0.9911\n",
      "Epoch 88/100\n",
      " - 48s - loss: 0.0172 - acc: 0.9909 - val_loss: 0.0169 - val_acc: 0.9911\n",
      "Epoch 89/100\n",
      " - 48s - loss: 0.0171 - acc: 0.9909 - val_loss: 0.0169 - val_acc: 0.9911\n",
      "Epoch 90/100\n",
      " - 48s - loss: 0.0171 - acc: 0.9909 - val_loss: 0.0169 - val_acc: 0.9911\n",
      "Epoch 91/100\n",
      " - 48s - loss: 0.0172 - acc: 0.9909 - val_loss: 0.0169 - val_acc: 0.9911\n",
      "Epoch 92/100\n",
      " - 48s - loss: 0.0172 - acc: 0.9908 - val_loss: 0.0169 - val_acc: 0.9911\n"
     ]
    },
    {
     "name": "stdout",
     "output_type": "stream",
     "text": [
      "Epoch 93/100\n",
      " - 48s - loss: 0.0172 - acc: 0.9909 - val_loss: 0.0169 - val_acc: 0.9911\n",
      "Epoch 94/100\n",
      " - 48s - loss: 0.0172 - acc: 0.9909 - val_loss: 0.0169 - val_acc: 0.9911\n",
      "Epoch 95/100\n",
      " - 48s - loss: 0.0171 - acc: 0.9909 - val_loss: 0.0169 - val_acc: 0.9911\n",
      "Epoch 96/100\n",
      " - 48s - loss: 0.0171 - acc: 0.9909 - val_loss: 0.0169 - val_acc: 0.9911\n",
      "Epoch 97/100\n",
      " - 48s - loss: 0.0172 - acc: 0.9908 - val_loss: 0.0169 - val_acc: 0.9911\n",
      "Epoch 98/100\n",
      " - 48s - loss: 0.0171 - acc: 0.9909 - val_loss: 0.0169 - val_acc: 0.9911\n",
      "Epoch 99/100\n",
      " - 48s - loss: 0.0171 - acc: 0.9909 - val_loss: 0.0169 - val_acc: 0.9911\n",
      "Epoch 100/100\n",
      " - 48s - loss: 0.0172 - acc: 0.9909 - val_loss: 0.0169 - val_acc: 0.9911\n",
      "train_time: 4820.229252099991\n"
     ]
    }
   ],
   "source": [
    "import keras\n",
    "import time\n",
    "time_start = time.time()\n",
    "\n",
    "reduce_lr = keras.callbacks.ReduceLROnPlateau(moniter='val_loss',\n",
    "                                              factor=0.1,\n",
    "                                              patience=10)\n",
    "nadam = Nadam(lr=0.008, beta_1=0.9, beta_2=0.999, epsilon=1e-08, schedule_decay=0.004)\n",
    "model.compile(loss = \"categorical_crossentropy\",optimizer = \"nadam\", metrics = [\"accuracy\"])#损失函数，优化器，精度\n",
    "history = model.fit(x_train, y_train, \n",
    "                    epochs=100, \n",
    "                    batch_size=batch_size, \n",
    "                    verbose=2,\n",
    "                    validation_data=(x_val, y_val),\n",
    "                    callbacks=[reduce_lr])\n",
    "time_end = time.time()\n",
    "train_time = time_end - time_start\n",
    "print(\"train_time:\",train_time)"
   ]
  },
  {
   "cell_type": "code",
   "execution_count": 29,
   "metadata": {},
   "outputs": [],
   "source": [
    "np.save(\"E:/IDS/alldata/12/train/2019.12.18/CNN_2_history.npy\",history)"
   ]
  },
  {
   "cell_type": "code",
   "execution_count": 17,
   "metadata": {},
   "outputs": [
    {
     "name": "stdout",
     "output_type": "stream",
     "text": [
      "508012/508012 [==============================] - 10s 19us/step\n",
      "test_loss =  0.017101159232763865 test_accuracy =  0.9909155689235687\n"
     ]
    }
   ],
   "source": [
    "scores = model.evaluate(x_test, y_test)\n",
    "print(\"test_loss = \", scores[0],\"test_accuracy = \", scores[1])"
   ]
  },
  {
   "cell_type": "code",
   "execution_count": 18,
   "metadata": {},
   "outputs": [],
   "source": [
    "model.save('E:/IDS/alldata/12/train/2019.12.18/CNN_2.h5')"
   ]
  },
  {
   "cell_type": "markdown",
   "metadata": {},
   "source": [
    "# 测试模型"
   ]
  },
  {
   "cell_type": "code",
   "execution_count": 19,
   "metadata": {},
   "outputs": [
    {
     "name": "stdout",
     "output_type": "stream",
     "text": [
      "test_time: 8.304940462112427\n"
     ]
    }
   ],
   "source": [
    "import time\n",
    "time_start = time.time()\n",
    "\n",
    "y_pred_onehot  = model.predict(x_test)  #返回的是在类别上的概率分布\n",
    "y_pred_label=np.argmax(y_pred_onehot,axis=1)#概率最大的类别就是预测类别\n",
    "\n",
    "time_end = time.time()\n",
    "test_time = time_end - time_start\n",
    "print(\"test_time:\",test_time)\n",
    "\n",
    "np.savetxt(\"E:/IDS/alldata/12/train/2019.12.18/CNN_pred_2.txt\",y_pred_label)  #保存预测标签\n"
   ]
  },
  {
   "cell_type": "code",
   "execution_count": 20,
   "metadata": {},
   "outputs": [],
   "source": [
    "y_true_onehot=y_test\n",
    "y_true_label=np.argmax(y_true_onehot,axis=1)\n",
    "np.savetxt(\"E:/IDS/alldata/12/train/2019.12.18/CNN_true_2.txt\",y_true_label)  #保存真实标签"
   ]
  },
  {
   "cell_type": "code",
   "execution_count": 21,
   "metadata": {},
   "outputs": [
    {
     "data": {
      "image/png": "[encoded data removed]",
      "text/plain": [
       "<Figure size 1800x1560 with 2 Axes>"
      ]
     },
     "metadata": {
      "needs_background": "light"
     },
     "output_type": "display_data"
    }
   ],
   "source": [
    "# -*-coding:utf-8-*-\n",
    "from sklearn.metrics import confusion_matrix\n",
    "import matplotlib.pyplot as plt\n",
    "import numpy as np\n",
    "\n",
    "labels = ['Normal','Attack']\n",
    "          \n",
    "y_true = y_true_label\n",
    "y_pred  = y_pred_label\n",
    "\n",
    "tick_marks = np.array(range(len(labels))) + 0.5\n",
    "\n",
    "def plot_confusion_matrix(cm, title='Confusion Matrix', cmap=plt.cm.binary):\n",
    "    plt.imshow(cm, interpolation='nearest', cmap=plt.cm.Blues)  #cmap=cmap是黑白色\n",
    "    plt.title(title)\n",
    "    plt.colorbar()\n",
    "    xlocations = np.array(range(len(labels)))\n",
    "    plt.xticks(xlocations, labels, rotation=90)\n",
    "    plt.yticks(xlocations, labels)\n",
    "    plt.ylabel('True label')\n",
    "    plt.xlabel('Predicted label')\n",
    "\n",
    "\n",
    "cm = confusion_matrix(y_true, y_pred)  #cm是混淆矩阵\n",
    "np.set_printoptions(precision=2)  #保留两位小数\n",
    "cm_normalized = cm.astype('float') / cm.sum(axis=1)[:, np.newaxis]  #混淆矩阵的每个元素的值（0-1）\n",
    "\n",
    "plt.figure(figsize=(15, 13), dpi=120)\n",
    "\n",
    "ind_array = np.arange(len(labels))\n",
    "x, y = np.meshgrid(ind_array, ind_array)\n",
    "\n",
    "for x_val, y_val in zip(x.flatten(), y.flatten()):\n",
    "    c = cm_normalized[y_val][x_val]\n",
    "    if c > 0.001:\n",
    "        plt.text(x_val, y_val, \"%0.2f\" % (c,), color='red', fontsize=13, va='center', ha='center')\n",
    "# offset the tick\n",
    "plt.gca().set_xticks(tick_marks, minor=True)\n",
    "plt.gca().set_yticks(tick_marks, minor=True)\n",
    "plt.gca().xaxis.set_ticks_position('none')\n",
    "plt.gca().yaxis.set_ticks_position('none')\n",
    "plt.grid(True, which='minor', linestyle='-')\n",
    "plt.gcf().subplots_adjust(bottom=0.15)\n",
    "\n",
    "plot_confusion_matrix(cm_normalized, title='MLP_12_10_ROS Normalized confusion matrix')  #规范化的混淆矩阵\n",
    "#plt.savefig('/home/hll/IDS/alldata/cm/confusion_matrix.png', format='png')  #保存结果图\n",
    "plt.show()\n"
   ]
  },
  {
   "cell_type": "code",
   "execution_count": 22,
   "metadata": {},
   "outputs": [
    {
     "name": "stdout",
     "output_type": "stream",
     "text": [
      "[[442197   1558]\n",
      " [  3057  61200]]\n"
     ]
    }
   ],
   "source": [
    "print(cm)  #输出混淆矩阵具体的数值"
   ]
  },
  {
   "cell_type": "markdown",
   "metadata": {},
   "source": [
    "# 二分类指标"
   ]
  },
  {
   "cell_type": "code",
   "execution_count": 23,
   "metadata": {},
   "outputs": [
    {
     "name": "stdout",
     "output_type": "stream",
     "text": [
      "acc: 0.9909155689235687\n",
      "DR: 0.9524254166861198\n",
      "FPR: 0.003510946355534022\n",
      "recall： 0.9524254166861198\n",
      "precision: 0.9751744797476019\n",
      "f1: 0.9636657087745542\n"
     ]
    }
   ],
   "source": [
    "TP=cm[1,1]\n",
    "FP=cm[0,1]\n",
    "FN=cm[1,0]\n",
    "TN=cm[0,0]\n",
    "\n",
    "acc = (TP+TN)/(TP+TN+FP+FN)\n",
    "print(\"acc:\",acc)\n",
    "\n",
    "DR = TP/(TP+FN)  #检出率（查准率）\n",
    "print(\"DR:\",DR)\n",
    "\n",
    "FPR = FP/(FP+TN)  #假阳性率\n",
    "print(\"FPR:\",FPR)\n",
    "\n",
    "recall =TP/(TP+FN)\n",
    "print(\"recall：\",recall)  #召回率\n",
    "\n",
    "precision = TP/(TP+FP)\n",
    "print(\"precision:\",precision)\n",
    "\n",
    "f1 = (2*precision*recall)/(precision+recall)\n",
    "print(\"f1:\",f1)"
   ]
  },
  {
   "cell_type": "code",
   "execution_count": null,
   "metadata": {},
   "outputs": [],
   "source": []
  }
 ],
 "metadata": {
  "kernelspec": {
   "display_name": "Python 3",
   "language": "python",
   "name": "python3"
  },
  "language_info": {
   "codemirror_mode": {
    "name": "ipython",
    "version": 3
   },
   "file_extension": ".py",
   "mimetype": "text/x-python",
   "name": "python",
   "nbconvert_exporter": "python",
   "pygments_lexer": "ipython3",
   "version": "3.7.4"
  }
 },
 "nbformat": 4,
 "nbformat_minor": 2
}
